{
 "cells": [
  {
   "cell_type": "markdown",
   "id": "cf50e646-6096-47fa-8e3e-a486a86bdb29",
   "metadata": {},
   "source": [
    "# Groth16"
   ]
  },
  {
   "cell_type": "markdown",
   "id": "d8f2a466-aa12-4a26-aae6-7eb8d8c591d1",
   "metadata": {},
   "source": [
    "## Introduction\n",
    "Groth16 is a zk-SNARKs algorithm that allow a prover to prove that a statement is true, without revealing any other information about the input.\n",
    "\n",
    "In this jupyter notebook, we are going to implement Groth16 to prove that our statement to a problem is true."
   ]
  },
  {
   "cell_type": "markdown",
   "id": "3927d501-f6e2-4ba0-afdb-b52001f534a7",
   "metadata": {},
   "source": [
    "## Context and Problem\n",
    "\n",
    "In the following sections, we will implement and use Groth16 to prove a statement without leaking any other informations.\n",
    "\n",
    "The problem that we are going to prove is: \"I know $\\{x,y,z\\}$ such that $x^3+3x^2 y + 2z^2y^3 = 169695$\"."
   ]
  },
  {
   "cell_type": "markdown",
   "id": "5f0457c0-79f4-4082-9c9c-b2529bbd040c",
   "metadata": {},
   "source": [
    "## Problem's solution\n",
    "The prover needs to know the values ${x,y,z}$.\n",
    "In our example, those values are:\n",
    "$$x = 3$$\n",
    "$$y = 12$$\n",
    "$$z = 7$$\n",
    "Those values will remain private, they will never be sent to the verifier."
   ]
  },
  {
   "cell_type": "markdown",
   "id": "2f6c6b88-066b-49d9-a74e-d6cc8d2f83e7",
   "metadata": {},
   "source": [
    "## Initialize Python setup\n",
    "In our implementation, we will be working on the BN128 elliptic curve.\n",
    "As such, we will use a finite field which is the number of point of this curve (the order of the curve).\n",
    "We will need to adapt the our different computing to this.\n",
    "\n",
    "In Python, we will work with the `galois` library for the finite field.\n",
    "For the EC implementation, we will use `py_ecc`. `numpy` will be used to manipulate matrices."
   ]
  },
  {
   "cell_type": "code",
   "execution_count": 9,
   "id": "91a80a2a-9ac1-42de-b246-39fe2e5f962d",
   "metadata": {},
   "outputs": [
    {
     "name": "stdout",
     "output_type": "stream",
     "text": [
      "Initializing a large field...\n",
      "Field initialized\n"
     ]
    }
   ],
   "source": [
    "from py_ecc.bn128 import G1, multiply, add, curve_order, eq, Z1\n",
    "import galois\n",
    "\n",
    "print(\"Initializing a large field...\")\n",
    "GF = galois.GF(curve_order)\n",
    "print(\"Field initialized\")"
   ]
  },
  {
   "cell_type": "markdown",
   "id": "dd5e471c-78ce-4282-8098-d3e6e1e14f6c",
   "metadata": {},
   "source": [
    "## Arithmetic Circuit\n",
    "Our equation $out = x^3+3x^2 y + 2z^2y^3$ can be broken down into an arithmetic circuit.\n",
    "The following scheme shows one of the multiple ways to represent our equation as an arithmetic circuit.\n",
    "\n",
    "![Equation as an arithmetic circuit](./images/arithmetic-circuit.png)\n",
    "\n",
    "From this arithmetic circuit, we can define a set of constraints which has the form $O = L * R$. *Note: in the following set of constraints, $v1, ..., v7$ represent intermediate values.*\n",
    "$$v_1 = x * x$$<!-- x^2 -->\n",
    "$$v_2 = v_1 * x$$<!-- x^3 -->\n",
    "$$v_3 = 3v_1 * y$$<!-- 3x^2 y-->\n",
    "$$v_4 = y * y$$<!-- y^2 -->\n",
    "$$v_5 = v_4 * y$$<!-- y^3 -->\n",
    "$$v_6 = 2z * z$$<!-- 2z^2-->\n",
    "$$out = v_2 + v_3 + v_5 * v_6$$ <!-- x^3 + 3x^2 y + 2z^2 y^3-->"
   ]
  },
  {
   "cell_type": "markdown",
   "id": "26c4e42e-2bcd-4655-8b60-9a0d73e01273",
   "metadata": {},
   "source": [
    "## Rank 1 Constraint System\n",
    "\n",
    "Now that we have our arithmetic circuit, we can turn it into a Rank 1 Constraint System.\n",
    "We need to adapt our set of constraints to easily match the required R1CS format:\n",
    "$$v_1 = x * x$$<!-- x^2 -->\n",
    "$$v_2 = v_1 * x$$<!-- x^3 -->\n",
    "$$v_3 = 3v_1 * y$$<!-- 3x^2 y-->\n",
    "$$v_4 = y * y$$<!-- y^2 -->\n",
    "$$v_5 = v_4 * y$$<!-- y^3 -->\n",
    "$$v_6 = 2z * z$$<!-- 2z^2-->\n",
    "$$out - v_2 - v_3 = v_5 * v_6$$ <!-- x^3 + 3x^2 y + 2z^2 y^3-->\n",
    "\n",
    "Now that we have a proper $O = L * R$ form, we can create 4 matrices.\n",
    "The first matrix is named $s$. It is known as the *witness* matrix.\n",
    "The value of $s$ elements are known by the prover.\n",
    "$$s = \\begin{bmatrix} 1 & out & x & y & z & v_1 & v_2 & v_3 & v_4 & v_5 & v_6 \\end{bmatrix}$$\n",
    "$$s = \\begin{bmatrix} 1 & 169695 & 3 & 12 & 7 & 9 & 27 & 324 & 144 & 1728 & 98 \\end{bmatrix}$$\n",
    "\n",
    "Then, we can produce 3 matrices that will represent the constraints.\n",
    "It sort of represents the way the $s$ elements are interconnected.\n",
    "Those 3 matrices will be named $L$, $R$ and $O$.\n",
    "$$L = \\begin{bmatrix}\n",
    "0 & 0 & 1 & 0 & 0 & 0 & 0 & 0 & 0 & 0 & 0 \\\\\n",
    "0 & 0 & 1 & 0 & 0 & 0 & 0 & 0 & 0 & 0 & 0 \\\\\n",
    "0 & 0 & 0 & 0 & 0 & 3 & 0 & 0 & 0 & 0 & 0 \\\\\n",
    "0 & 0 & 0 & 1 & 0 & 0 & 0 & 0 & 0 & 0 & 0 \\\\\n",
    "0 & 0 & 0 & 0 & 0 & 0 & 0 & 0 & 1 & 0 & 0 \\\\\n",
    "0 & 0 & 0 & 0 & 2 & 0 & 0 & 0 & 0 & 0 & 0 \\\\\n",
    "0 & 0 & 0 & 0 & 0 & 0 & 0 & 0 & 0 & 1 & 0 \\\\\n",
    "\\end{bmatrix}$$\n",
    "$$R = \\begin{bmatrix}\n",
    "0 & 0 & 1 & 0 & 0 & 0 & 0 & 0 & 0 & 0 & 0 \\\\\n",
    "0 & 0 & 0 & 0 & 0 & 1 & 0 & 0 & 0 & 0 & 0 \\\\\n",
    "0 & 0 & 0 & 1 & 0 & 0 & 0 & 0 & 0 & 0 & 0 \\\\\n",
    "0 & 0 & 0 & 1 & 0 & 0 & 0 & 0 & 0 & 0 & 0 \\\\\n",
    "0 & 0 & 0 & 1 & 0 & 0 & 0 & 0 & 0 & 0 & 0 \\\\\n",
    "0 & 0 & 0 & 0 & 1 & 0 & 0 & 0 & 0 & 0 & 0 \\\\\n",
    "0 & 0 & 0 & 0 & 0 & 0 & 0 & 0 & 0 & 0 & 1 \\\\\n",
    "\\end{bmatrix}$$\n",
    "$$O = \\begin{bmatrix}\n",
    "0 & 0 & 0 & 0 & 0 & 1 & 0 & 0 & 0 & 0 & 0 \\\\\n",
    "0 & 0 & 0 & 0 & 0 & 0 & 1 & 0 & 0 & 0 & 0 \\\\\n",
    "0 & 0 & 0 & 0 & 0 & 0 & 0 & 1 & 0 & 0 & 0 \\\\\n",
    "0 & 0 & 0 & 0 & 0 & 0 & 0 & 0 & 1 & 0 & 0 \\\\\n",
    "0 & 0 & 0 & 0 & 0 & 0 & 0 & 0 & 0 & 1 & 0 \\\\\n",
    "0 & 0 & 0 & 0 & 0 & 0 & 0 & 0 & 0 & 0 & 1 \\\\\n",
    "0 & 1 & 0 & 0 & 0 & 0 & -1 & -1 & 0 & 0 & 0 \\\\\n",
    "\\end{bmatrix}$$\n",
    "\n",
    "The final R1CS representation is $Ls \\odot Rs = Os$.\n",
    "Each column of the matrices $L,R,O$ corresponds to an element of $s$.\n",
    "Each row of the matrices $L,R,O$ corresponds to one of the constraints of the arithmetic circuit.\n",
    "\n",
    "For example, let's take the 3rd row of $L, R, O$.\n",
    "In $L$, the value $3$ is set at the 6th column.\n",
    "The 6th column of $s$ is the $v_1$ variable.\n",
    "So, the 3rd row of $L$ encodes $3 v_1$.\n",
    "The same logic applies to $R$, its 3rd row encodes $y$.\n",
    "And for $O$, the 3rd row encodes $v_3$.\n",
    "If we put it all together, the $Os = Ls \\odot Rs$ gives $v_3 = v_1 * y$ which correspond to our 3rd constraints defined previously.\n",
    "\n",
    "Let's verify that the computing of $Os = Ls \\odot Rs$ is correct.\n",
    "We will use Python and numpy for this.\n",
    "As we are working on a finite field, negative number will be modified.\n",
    "For example, in $F_p$, $-1 (mod\\ p)= p-1$."
   ]
  },
  {
   "cell_type": "code",
   "execution_count": 12,
   "id": "209dd43d-844f-411f-9e4e-ae74d0b53a9e",
   "metadata": {},
   "outputs": [
    {
     "name": "stdout",
     "output_type": "stream",
     "text": [
      "Os = Ls * Rs: [ True  True  True  True  True  True  True]\n"
     ]
    }
   ],
   "source": [
    "import numpy as np\n",
    "\n",
    "# define the matrices in our Galois Field\n",
    "\n",
    "L = GF(np.array([\n",
    "    [0, 0, 1, 0, 0, 0, 0, 0, 0, 0, 0],\n",
    "    [0, 0, 1, 0, 0, 0, 0, 0, 0, 0, 0],\n",
    "    [0, 0, 0, 0, 0, 3, 0, 0, 0, 0, 0],\n",
    "    [0, 0, 0, 1, 0, 0, 0, 0, 0, 0, 0],\n",
    "    [0, 0, 0, 0, 0, 0, 0, 0, 1, 0, 0],\n",
    "    [0, 0, 0, 0, 2, 0, 0, 0, 0, 0, 0],\n",
    "    [0, 0, 0, 0, 0, 0, 0, 0, 0, 1, 0]]))\n",
    "R = GF(np.array([\n",
    "    [0, 0, 1, 0, 0, 0, 0, 0, 0, 0, 0],\n",
    "    [0, 0, 0, 0, 0, 1, 0, 0, 0, 0, 0],\n",
    "    [0, 0, 0, 1, 0, 0, 0, 0, 0, 0, 0],\n",
    "    [0, 0, 0, 1, 0, 0, 0, 0, 0, 0, 0],\n",
    "    [0, 0, 0, 1, 0, 0, 0, 0, 0, 0, 0],\n",
    "    [0, 0, 0, 0, 1, 0, 0, 0, 0, 0, 0],\n",
    "    [0, 0, 0, 0, 0, 0, 0, 0, 0, 0, 1]]))\n",
    "\n",
    "\n",
    "O = GF(np.array([\n",
    "    [0, 0, 0, 0, 0, 1, 0, 0, 0, 0, 0],\n",
    "    [0, 0, 0, 0, 0, 0, 1, 0, 0, 0, 0],\n",
    "    [0, 0, 0, 0, 0, 0, 0, 1, 0, 0, 0],\n",
    "    [0, 0, 0, 0, 0, 0, 0, 0, 1, 0, 0],\n",
    "    [0, 0, 0, 0, 0, 0, 0, 0, 0, 1, 0],\n",
    "    [0, 0, 0, 0, 0, 0, 0, 0, 0, 0, 1],\n",
    "    [0, 1, 0, 0, 0, 0, curve_order-1, curve_order-1, 0, 0, 0]]))\n",
    "\n",
    "# witness vector `s`\n",
    "s = GF(np.array([1, 169695, 3, 12, 7, 9, 27, 324, 144, 1728, 98]))\n",
    "\n",
    "# Calculate the result of the mutliplication of matrix, and check if it is equal to O*s\n",
    "result = np.matmul(O, s) == np.matmul(L, s) * np.matmul(R, s)\n",
    "\n",
    "# check that every element-wise equality is true\n",
    "print(\"Os = Ls * Rs:\", result.all())"
   ]
  },
  {
   "cell_type": "markdown",
   "id": "3e45d1fc-9762-4aa0-8212-434749aa23d1",
   "metadata": {},
   "source": [
    "## QAP\n",
    "\n",
    "We have a working R1CS corresponding to our arithmetic circuit.\n",
    "The next step is to transform this R1CS into a Quadratic Arithmetic Program (QAP).\n",
    "\n",
    "This transformation consists of turning our constraint matrices into polynomials.\n",
    "The main goal of this transformation is **succinctness**.\n",
    "Thanks to the Schwartz-Zippel Lemma, we know that evaluating two polynomials at a random point $x$ allows to nearly be certain that they are the same polynomial if they return the same value $y$.\n",
    "In summary, if $P_1(\\tau) == P_2(\\tau)$, then $P1 == P2$, with $\\tau$ being a random number.\n",
    "This evaluation is way more succinct than matrices evaluation.\n",
    "\n",
    "To achieve succinctness, we will derivate a QAP from our R1CS.\n",
    "Our goal is to get $u * v = w$ if $Ls \\odot Rs = Os$.\n",
    "The transformation is made possible thanks to a ring homomorphism between matrices and polynomials.\n",
    "\n",
    "The created polynomials must encode the same informations as our R1CS matrices, but uniquely at the points at which it will be evaluated.\n",
    "As we have 7 constraints, we will evaluate our polynomials at $x=[1,2,3,4,5,6,7]$.\n",
    "\n",
    "### R1CS to QAP\n",
    "For each column of each matrix, we will interpolate a polynomial.\n",
    "The interpolation will be done using Lagrange interpolation.\n",
    "The interpolated polynomial will encode all the values of the column.\n",
    "\n",
    "For example, the third column of $L$ is:\n",
    "$$\\begin{bmatrix} 1 \\\\ 1 \\\\ 0 \\\\ 0 \\\\ 0 \\\\ 0 \\\\ 0 \\end{bmatrix}$$\n",
    "\n",
    "So, the interpolated polynomial $P_{L_3}$ must return the following values:\n",
    "$$P_{L_3}(1) = 1$$\n",
    "$$P_{L_3}(2) = 1$$\n",
    "$$P_{L_3}(3) = 0$$\n",
    "$$P_{L_3}(4) = 0$$\n",
    "$$P_{L_3}(5) = 0$$\n",
    "$$P_{L_3}(6) = 0$$\n",
    "$$P_{L_3}(7) = 0$$\n",
    "\n",
    "The following Python code shows the exact previous example (3rd column of matrix $L$)."
   ]
  },
  {
   "cell_type": "code",
   "execution_count": 16,
   "id": "dd7b3e92-531e-4371-95b2-923cf3b1f2a7",
   "metadata": {},
   "outputs": [
    {
     "name": "stdout",
     "output_type": "stream",
     "text": [
      "The resulting polynomial is:\n",
      "152001686609994966821155595453175521448252530558444682942348640184554225664x^6 + 9211302208565694989362029084462436599764103351841747786306327595183986075239x^5 + 18392204079809390985359827049834238095238556197571806636024185462331061305343x^4 + 10488116376089652710659736086269110979929424608532683123022056172734241570826x^3 + 14288158541339526881188625972598499016135737872493800196580772177348097212391x^2 + 13132945723103565133347843447154365053129018640249620606218922511945485097403x + 21888242871839275222246405745257275088548364400416034343698204186575808495603\n",
      "L3_poly(1) == 1: True\n",
      "L3_poly(2) == 1: True\n",
      "L3_poly(3) == 0: True\n",
      "L3_poly(4) == 0: True\n",
      "L3_poly(5) == 0: True\n",
      "L3_poly(6) == 0: True\n",
      "L3_poly(7) == 0: True\n"
     ]
    }
   ],
   "source": [
    "x = GF(np.array([1,2,3,4,5,6,7]))\n",
    "L3_column = GF(np.array([1,1,0,0,0,0,0]))\n",
    "\n",
    "L3_poly = galois.lagrange_poly(x, L3_column)\n",
    "\n",
    "print(\"The resulting polynomial is:\\n\", L3_poly, sep='')\n",
    "\n",
    "# Checking each column element\n",
    "print(\"L3_poly(1) == 1:\", L3_poly(1) == 1)\n",
    "print(\"L3_poly(2) == 1:\", L3_poly(2) == 1)\n",
    "print(\"L3_poly(3) == 0:\", L3_poly(3) == 0)\n",
    "print(\"L3_poly(4) == 0:\", L3_poly(4) == 0)\n",
    "print(\"L3_poly(5) == 0:\", L3_poly(5) == 0)\n",
    "print(\"L3_poly(6) == 0:\", L3_poly(6) == 0)\n",
    "print(\"L3_poly(7) == 0:\", L3_poly(7) == 0)"
   ]
  },
  {
   "cell_type": "markdown",
   "id": "b3a537f1-5a6d-4afe-a650-502df77d9a86",
   "metadata": {},
   "source": [
    "Now that we achieved it for one column,\n",
    "we can automate the process to get the interpolated polynomials for all the columns of each matrix.\n",
    "\n",
    "The following Python code does it!"
   ]
  },
  {
   "cell_type": "code",
   "execution_count": 56,
   "id": "e6b6302b-83fe-4a45-b63f-2f6c9a73ac06",
   "metadata": {},
   "outputs": [],
   "source": [
    "def interpolate_column(col, nb):\n",
    "    xs = GF(np.arange(1,nb+1))\n",
    "    return galois.lagrange_poly(xs, col)\n",
    "\n",
    "def get_polys_of_matrix(matrix):\n",
    "    polys = []\n",
    "    nb_of_rows = len(matrix)\n",
    "    nb_of_columns = len(matrix[0])\n",
    "    # for each column\n",
    "    for col_id in range(nb_of_columns):\n",
    "        column = []\n",
    "        for row in range(nb_of_rows):\n",
    "            column.append(matrix[row][col_id])\n",
    "        polys.append(interpolate_column(GF(np.array(column)), nb_of_rows))\n",
    "    return np.array(polys)\n",
    "    \n",
    "\n",
    "## computes all interpolated polynomials for L, R, and O\n",
    "U_polys = get_polys_of_matrix(L)\n",
    "V_polys = get_polys_of_matrix(R)\n",
    "W_polys = get_polys_of_matrix(O)"
   ]
  },
  {
   "cell_type": "markdown",
   "id": "e377865d-2e52-420a-963a-55a3a0bddd3d",
   "metadata": {},
   "source": [
    "### Adding the witness to the polynomials\n",
    "\n",
    "Once the interpolated polynomials $U,V,W$ have been calculated for $L,R,O$, we can plug the witness to them.\n",
    "\n",
    "This step is pretty simple. As one column represents one witness element and one column is interpolated as one polynomial,\n",
    "then multiplying the witness element (a scalar) by the polynomial is enough.\n",
    "Let's get our final polynomials $U_a, V_a, W_a$!"
   ]
  },
  {
   "cell_type": "code",
   "execution_count": 63,
   "id": "46c9239b-e316-46da-9c47-bdbfffc941de",
   "metadata": {},
   "outputs": [],
   "source": [
    "def add_witness_to_polys(polys, witness):\n",
    "    ret_polys = []\n",
    "    for i in range(len(polys)):\n",
    "        ret_polys.append(polys[i] * witness[i])\n",
    "    return np.array(ret_polys)\n",
    "\n",
    "## plug witness into the three polynomials collections\n",
    "U_a = add_witness_to_polys(U_polys, s)\n",
    "V_a = add_witness_to_polys(V_polys, s)\n",
    "W_a = add_witness_to_polys(W_polys, s)"
   ]
  },
  {
   "cell_type": "markdown",
   "id": "6af4bbe6-b7bb-4f2b-80a3-75bdf36ace2c",
   "metadata": {},
   "source": [
    "### Verifying the QAP\n",
    "\n",
    "Now that we have our $U_a, V_a, W_a$ polynomials, we can check to see if the $U_a * V_a = W_a$ form herited from our R1CS still holds.\n",
    "\n",
    "In fact, the real equation of a QAP is $\\sum\\limits_{i=0}^{m} a_i u_i(x) \\sum\\limits_{i=0}^{m} a_i v_i(x) = \\sum\\limits_{i=0}^{m} a_i w_i(x)$.\n",
    "\n",
    "The following code verifies the QAP equation for all our polynomials.\n",
    "*Note: For the 7th constraint, remember that the $O$ part of the R1CS was $out-v2-v3$.*"
   ]
  },
  {
   "cell_type": "code",
   "execution_count": 98,
   "id": "daaf6b33-b790-42be-9942-d9ec9a747061",
   "metadata": {},
   "outputs": [
    {
     "name": "stdout",
     "output_type": "stream",
     "text": [
      "[1]th constraints holds? True, value is 9\n",
      "[2]th constraints holds? True, value is 27\n",
      "[3]th constraints holds? True, value is 324\n",
      "[4]th constraints holds? True, value is 144\n",
      "[5]th constraints holds? True, value is 1728\n",
      "[6]th constraints holds? True, value is 98\n",
      "[7]th constraints holds? True, value is 169344\n"
     ]
    }
   ],
   "source": [
    "# Summing all the polynamials of the collection into one polynomial\n",
    "Ua = galois.Poly([0], field=GF)\n",
    "Va = galois.Poly([0], field=GF)\n",
    "Wa = galois.Poly([0], field=GF)\n",
    "for i in range(len(U_a)):\n",
    "    Ua += U_a[i]\n",
    "    Va += V_a[i]\n",
    "    Wa += W_a[i]\n",
    "\n",
    "for j in range(1, len(L)+1):\n",
    "    print('[{0}]th constraints holds? {1}, value is {2}'.format(str(j), Ua(j) * Va(j) == Wa(j), Wa(j)))"
   ]
  },
  {
   "cell_type": "markdown",
   "id": "20f350eb-16f6-46a4-ad06-d6613cb6fb13",
   "metadata": {},
   "source": [
    "### QAP balancing\n",
    "Our QAP $\\sum\\limits_{i=0}^{m} a_i u_i(x) \\sum\\limits_{i=0}^{m} a_i v_i(x) = \\sum\\limits_{i=0}^{m} a_i w_i(x)$ has an issue.\n",
    "The left term will have a degree greater than the right term.\n",
    "Even if this does not have any impact on the points at which we evaluate those polynomials, we will fix it by adding a *balancing term*.\n",
    "\n",
    "The balancing term is a set of two polynomial $h(x)$ and $t(x)$ that will be added to the right term:\n",
    "$\\sum\\limits_{i=0}^{m} a_i u_i(x) \\sum\\limits_{i=0}^{m} a_i v_i(x) = \\sum\\limits_{i=0}^{m} a_i w_i(x) + h(x)t(x)$.\n",
    "\n",
    "We need this balancing term to be zero at the points we evaluate the polynomials. To do so, we use $t(x)$ as a sort of nullifier.\n",
    "As we evaluate at $x=[1,...,7]$, we can easily find that $t(x)= (x-1)(x-2)...(x-7)$. Remember that as we are in a finite field, negative values are handled differently.\n",
    "\n",
    "Then, we need to compute $h(x)$. It is easy to do so as we know all the terms:\n",
    "$$ \\frac{(U \\cdot a)(V \\cdot a) - (W \\cdot a)}{t(x)} = h(x)$$"
   ]
  },
  {
   "cell_type": "code",
   "execution_count": 100,
   "id": "76cc5800-3edf-44c3-97e5-97e9964a655c",
   "metadata": {},
   "outputs": [
    {
     "name": "stdout",
     "output_type": "stream",
     "text": [
      "t(x): x^7 + 21888242871839275222246405745257275088548364400416034343698204186575808495589x^6 + 322x^5 + 21888242871839275222246405745257275088548364400416034343698204186575808493657x^4 + 6769x^3 + 21888242871839275222246405745257275088548364400416034343698204186575808482485x^2 + 13068x + 21888242871839275222246405745257275088548364400416034343698204186575808490577\n",
      "h(x): 0\n"
     ]
    }
   ],
   "source": [
    "# Computing t(x)\n",
    "## T = (x-1)\n",
    "T = galois.Poly([1, curve_order-1], field=GF)\n",
    "## Then multiply by the other values: (x-2)(x-3)...(x-7)\n",
    "for i in range(2, len(L)+1):\n",
    "    T = T * galois.Poly([1, curve_order-i], field=GF)\n",
    "\n",
    "H = (Ua + Va - Wa) // T\n",
    "print(\"t(x):\", T)\n",
    "print(\"h(x):\", H)"
   ]
  },
  {
   "cell_type": "code",
   "execution_count": 101,
   "id": "9cbaca8f-71e6-4635-a4e7-f9e7e533a05b",
   "metadata": {},
   "outputs": [
    {
     "name": "stdout",
     "output_type": "stream",
     "text": [
      "[1]th constraints holds? True, value is 9\n",
      "[2]th constraints holds? True, value is 27\n",
      "[3]th constraints holds? True, value is 324\n",
      "[4]th constraints holds? True, value is 144\n",
      "[5]th constraints holds? True, value is 1728\n",
      "[6]th constraints holds? True, value is 98\n",
      "[7]th constraints holds? True, value is 169344\n"
     ]
    }
   ],
   "source": [
    "# Let's verify that the equation still holds when we add h(x)t(x)\n",
    "for j in range(1, len(L)+1):\n",
    "    print('[{0}]th constraints holds? {1}, value is {2}'.format(str(j), Ua(j) * Va(j) == Wa(j) + H(j)*T(j), Wa(j)))"
   ]
  },
  {
   "cell_type": "code",
   "execution_count": null,
   "id": "89d49900-a866-4ad9-abb3-745aa6f81ff0",
   "metadata": {},
   "outputs": [],
   "source": []
  }
 ],
 "metadata": {
  "kernelspec": {
   "display_name": "Python 3 (ipykernel)",
   "language": "python",
   "name": "python3"
  },
  "language_info": {
   "codemirror_mode": {
    "name": "ipython",
    "version": 3
   },
   "file_extension": ".py",
   "mimetype": "text/x-python",
   "name": "python",
   "nbconvert_exporter": "python",
   "pygments_lexer": "ipython3",
   "version": "3.11.2"
  }
 },
 "nbformat": 4,
 "nbformat_minor": 5
}
