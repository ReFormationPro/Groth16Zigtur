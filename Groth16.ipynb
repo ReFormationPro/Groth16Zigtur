{
 "cells": [
  {
   "cell_type": "markdown",
   "id": "cf50e646-6096-47fa-8e3e-a486a86bdb29",
   "metadata": {},
   "source": [
    "# Groth16"
   ]
  },
  {
   "cell_type": "markdown",
   "id": "d8f2a466-aa12-4a26-aae6-7eb8d8c591d1",
   "metadata": {},
   "source": [
    "## Introduction\n",
    "Groth16 is a zk-SNARKs algorithm that allow a prover to prove that a statement is true, without revealing any other information about the input.\n",
    "\n",
    "In this jupyter notebook, we are going to implement Groth16 to prove that our statement to a problem is true.\n",
    "\n",
    "The main resource we need to implement it is the [Groth16 paper](https://eprint.iacr.org/2016/260.pdf)."
   ]
  },
  {
   "cell_type": "markdown",
   "id": "3927d501-f6e2-4ba0-afdb-b52001f534a7",
   "metadata": {},
   "source": [
    "## Context and Problem\n",
    "\n",
    "In the following sections, we will implement and use Groth16 to prove a statement without leaking any other informations.\n",
    "\n",
    "The problem that we are going to prove is: \"I know $\\{x,y,z\\}$ such that $x^3+3x^2 y + 2z^2y^3 = 169695$\"."
   ]
  },
  {
   "cell_type": "markdown",
   "id": "5f0457c0-79f4-4082-9c9c-b2529bbd040c",
   "metadata": {},
   "source": [
    "## Problem's solution\n",
    "The prover needs to know the values ${x,y,z}$.\n",
    "In our example, those values are:\n",
    "$$x = 3$$\n",
    "$$y = 12$$\n",
    "$$z = 7$$\n",
    "Those values will remain private, they will never be sent to the verifier."
   ]
  },
  {
   "cell_type": "markdown",
   "id": "2f6c6b88-066b-49d9-a74e-d6cc8d2f83e7",
   "metadata": {},
   "source": [
    "## Initialize Python setup\n",
    "In our implementation, we will be working on the BN128 elliptic curve.\n",
    "As such, we will use a finite field which is the number of point of this curve (the order of the curve).\n",
    "We will need to adapt the our different computing to this.\n",
    "\n",
    "In Python, we will work with the `galois` library for the finite field.\n",
    "For the EC implementation, we will use `py_ecc`. `numpy` will be used to manipulate matrices."
   ]
  },
  {
   "cell_type": "code",
   "execution_count": 93,
   "id": "91a80a2a-9ac1-42de-b246-39fe2e5f962d",
   "metadata": {},
   "outputs": [
    {
     "name": "stdout",
     "output_type": "stream",
     "text": [
      "Initializing a large field...\n",
      "Field initialized\n"
     ]
    }
   ],
   "source": [
    "from py_ecc.optimized_bn128 import multiply, G1, G2, add, pairing, neg, normalize, curve_order\n",
    "import galois\n",
    "\n",
    "print(\"Initializing a large field...\")\n",
    "GF = galois.GF(curve_order)\n",
    "print(\"Field initialized\")"
   ]
  },
  {
   "cell_type": "markdown",
   "id": "dd5e471c-78ce-4282-8098-d3e6e1e14f6c",
   "metadata": {},
   "source": [
    "## Arithmetic Circuit\n",
    "Our equation $out = x^3+3x^2 y + 2z^2y^3$ can be broken down into an arithmetic circuit.\n",
    "The following scheme shows one of the multiple ways to represent our equation as an arithmetic circuit.\n",
    "\n",
    "![Equation as an arithmetic circuit](./images/arithmetic-circuit.png)\n",
    "\n",
    "From this arithmetic circuit, we can define a set of constraints which has the form $O = L * R$. *Note: in the following set of constraints, $v1, ..., v7$ represent intermediate values.*\n",
    "$$v_1 = x * x$$<!-- x^2 -->\n",
    "$$v_2 = v_1 * x$$<!-- x^3 -->\n",
    "$$v_3 = 3v_1 * y$$<!-- 3x^2 y-->\n",
    "$$v_4 = y * y$$<!-- y^2 -->\n",
    "$$v_5 = v_4 * y$$<!-- y^3 -->\n",
    "$$v_6 = 2z * z$$<!-- 2z^2-->\n",
    "$$out = v_2 + v_3 + v_5 * v_6$$ <!-- x^3 + 3x^2 y + 2z^2 y^3-->"
   ]
  },
  {
   "cell_type": "markdown",
   "id": "26c4e42e-2bcd-4655-8b60-9a0d73e01273",
   "metadata": {},
   "source": [
    "## Rank 1 Constraint System\n",
    "\n",
    "Now that we have our arithmetic circuit, we can turn it into a Rank 1 Constraint System.\n",
    "We need to adapt our set of constraints to easily match the required R1CS format:\n",
    "$$v_1 = x * x$$<!-- x^2 -->\n",
    "$$v_2 = v_1 * x$$<!-- x^3 -->\n",
    "$$v_3 = 3v_1 * y$$<!-- 3x^2 y-->\n",
    "$$v_4 = y * y$$<!-- y^2 -->\n",
    "$$v_5 = v_4 * y$$<!-- y^3 -->\n",
    "$$v_6 = 2z * z$$<!-- 2z^2-->\n",
    "$$out - v_2 - v_3 = v_5 * v_6$$ <!-- x^3 + 3x^2 y + 2z^2 y^3-->\n",
    "\n",
    "Now that we have a proper $O = L * R$ form, we can create 4 matrices.\n",
    "The first matrix is named $s$. It is known as the *witness* matrix.\n",
    "The value of $s$ elements are known by the prover.\n",
    "$$s = \\begin{bmatrix} 1 & out & x & y & z & v_1 & v_2 & v_3 & v_4 & v_5 & v_6 \\end{bmatrix}$$\n",
    "$$s = \\begin{bmatrix} 1 & 169695 & 3 & 12 & 7 & 9 & 27 & 324 & 144 & 1728 & 98 \\end{bmatrix}$$\n",
    "\n",
    "Then, we can produce 3 matrices that will represent the constraints.\n",
    "It sort of represents the way the $s$ elements are interconnected.\n",
    "Those 3 matrices will be named $L$, $R$ and $O$.\n",
    "$$L = \\begin{bmatrix}\n",
    "0 & 0 & 1 & 0 & 0 & 0 & 0 & 0 & 0 & 0 & 0 \\\\\n",
    "0 & 0 & 1 & 0 & 0 & 0 & 0 & 0 & 0 & 0 & 0 \\\\\n",
    "0 & 0 & 0 & 0 & 0 & 3 & 0 & 0 & 0 & 0 & 0 \\\\\n",
    "0 & 0 & 0 & 1 & 0 & 0 & 0 & 0 & 0 & 0 & 0 \\\\\n",
    "0 & 0 & 0 & 0 & 0 & 0 & 0 & 0 & 1 & 0 & 0 \\\\\n",
    "0 & 0 & 0 & 0 & 2 & 0 & 0 & 0 & 0 & 0 & 0 \\\\\n",
    "0 & 0 & 0 & 0 & 0 & 0 & 0 & 0 & 0 & 1 & 0 \\\\\n",
    "\\end{bmatrix}$$\n",
    "$$R = \\begin{bmatrix}\n",
    "0 & 0 & 1 & 0 & 0 & 0 & 0 & 0 & 0 & 0 & 0 \\\\\n",
    "0 & 0 & 0 & 0 & 0 & 1 & 0 & 0 & 0 & 0 & 0 \\\\\n",
    "0 & 0 & 0 & 1 & 0 & 0 & 0 & 0 & 0 & 0 & 0 \\\\\n",
    "0 & 0 & 0 & 1 & 0 & 0 & 0 & 0 & 0 & 0 & 0 \\\\\n",
    "0 & 0 & 0 & 1 & 0 & 0 & 0 & 0 & 0 & 0 & 0 \\\\\n",
    "0 & 0 & 0 & 0 & 1 & 0 & 0 & 0 & 0 & 0 & 0 \\\\\n",
    "0 & 0 & 0 & 0 & 0 & 0 & 0 & 0 & 0 & 0 & 1 \\\\\n",
    "\\end{bmatrix}$$\n",
    "$$O = \\begin{bmatrix}\n",
    "0 & 0 & 0 & 0 & 0 & 1 & 0 & 0 & 0 & 0 & 0 \\\\\n",
    "0 & 0 & 0 & 0 & 0 & 0 & 1 & 0 & 0 & 0 & 0 \\\\\n",
    "0 & 0 & 0 & 0 & 0 & 0 & 0 & 1 & 0 & 0 & 0 \\\\\n",
    "0 & 0 & 0 & 0 & 0 & 0 & 0 & 0 & 1 & 0 & 0 \\\\\n",
    "0 & 0 & 0 & 0 & 0 & 0 & 0 & 0 & 0 & 1 & 0 \\\\\n",
    "0 & 0 & 0 & 0 & 0 & 0 & 0 & 0 & 0 & 0 & 1 \\\\\n",
    "0 & 1 & 0 & 0 & 0 & 0 & -1 & -1 & 0 & 0 & 0 \\\\\n",
    "\\end{bmatrix}$$\n",
    "\n",
    "The final R1CS representation is $Ls \\odot Rs = Os$.\n",
    "Each column of the matrices $L,R,O$ corresponds to an element of $s$.\n",
    "Each row of the matrices $L,R,O$ corresponds to one of the constraints of the arithmetic circuit.\n",
    "\n",
    "For example, let's take the 3rd row of $L, R, O$.\n",
    "In $L$, the value $3$ is set at the 6th column.\n",
    "The 6th column of $s$ is the $v_1$ variable.\n",
    "So, the 3rd row of $L$ encodes $3 v_1$.\n",
    "The same logic applies to $R$, its 3rd row encodes $y$.\n",
    "And for $O$, the 3rd row encodes $v_3$.\n",
    "If we put it all together, the $Os = Ls \\odot Rs$ gives $v_3 = v_1 * y$ which correspond to our 3rd constraints defined previously.\n",
    "\n",
    "Let's verify that the computing of $Os = Ls \\odot Rs$ is correct.\n",
    "We will use Python and numpy for this.\n",
    "As we are working on a finite field, negative number will be modified.\n",
    "For example, in $F_p$, $-1 (mod\\ p)= p-1$."
   ]
  },
  {
   "cell_type": "code",
   "execution_count": 94,
   "id": "209dd43d-844f-411f-9e4e-ae74d0b53a9e",
   "metadata": {},
   "outputs": [
    {
     "name": "stdout",
     "output_type": "stream",
     "text": [
      "Os = Ls * Rs: True\n"
     ]
    }
   ],
   "source": [
    "import numpy as np\n",
    "\n",
    "# define the matrices in our Galois Field\n",
    "\n",
    "L = GF(np.array([\n",
    "    [0, 0, 1, 0, 0, 0, 0, 0, 0, 0, 0],\n",
    "    [0, 0, 1, 0, 0, 0, 0, 0, 0, 0, 0],\n",
    "    [0, 0, 0, 0, 0, 3, 0, 0, 0, 0, 0],\n",
    "    [0, 0, 0, 1, 0, 0, 0, 0, 0, 0, 0],\n",
    "    [0, 0, 0, 0, 0, 0, 0, 0, 1, 0, 0],\n",
    "    [0, 0, 0, 0, 2, 0, 0, 0, 0, 0, 0],\n",
    "    [0, 0, 0, 0, 0, 0, 0, 0, 0, 1, 0]]))\n",
    "R = GF(np.array([\n",
    "    [0, 0, 1, 0, 0, 0, 0, 0, 0, 0, 0],\n",
    "    [0, 0, 0, 0, 0, 1, 0, 0, 0, 0, 0],\n",
    "    [0, 0, 0, 1, 0, 0, 0, 0, 0, 0, 0],\n",
    "    [0, 0, 0, 1, 0, 0, 0, 0, 0, 0, 0],\n",
    "    [0, 0, 0, 1, 0, 0, 0, 0, 0, 0, 0],\n",
    "    [0, 0, 0, 0, 1, 0, 0, 0, 0, 0, 0],\n",
    "    [0, 0, 0, 0, 0, 0, 0, 0, 0, 0, 1]]))\n",
    "\n",
    "\n",
    "O = GF(np.array([\n",
    "    [0, 0, 0, 0, 0, 1, 0, 0, 0, 0, 0],\n",
    "    [0, 0, 0, 0, 0, 0, 1, 0, 0, 0, 0],\n",
    "    [0, 0, 0, 0, 0, 0, 0, 1, 0, 0, 0],\n",
    "    [0, 0, 0, 0, 0, 0, 0, 0, 1, 0, 0],\n",
    "    [0, 0, 0, 0, 0, 0, 0, 0, 0, 1, 0],\n",
    "    [0, 0, 0, 0, 0, 0, 0, 0, 0, 0, 1],\n",
    "    [0, 1, 0, 0, 0, 0, curve_order-1, curve_order-1, 0, 0, 0]]))\n",
    "\n",
    "# witness vector `s`\n",
    "s = GF(np.array([1, 169695, 3, 12, 7, 9, 27, 324, 144, 1728, 98]))\n",
    "\n",
    "# Calculate the result of the mutliplication of matrix, and check if it is equal to O*s\n",
    "result = np.matmul(O, s) == np.matmul(L, s) * np.matmul(R, s)\n",
    "\n",
    "# check that every element-wise equality is true\n",
    "print(\"Os = Ls * Rs:\", result.all())"
   ]
  },
  {
   "cell_type": "markdown",
   "id": "3e45d1fc-9762-4aa0-8212-434749aa23d1",
   "metadata": {},
   "source": [
    "## QAP\n",
    "\n",
    "We have a working R1CS corresponding to our arithmetic circuit.\n",
    "The next step is to transform this R1CS into a Quadratic Arithmetic Program (QAP).\n",
    "\n",
    "This transformation consists of turning our constraint matrices into polynomials.\n",
    "The main goal of this transformation is **succinctness**.\n",
    "Thanks to the Schwartz-Zippel Lemma, we know that evaluating two polynomials at a random point $x$ allows to nearly be certain that they are the same polynomial if they return the same value $y$.\n",
    "In summary, if $P_1(\\tau) == P_2(\\tau)$, then $P1 == P2$, with $\\tau$ being a random number.\n",
    "This evaluation is way more succinct than matrices evaluation.\n",
    "\n",
    "To achieve succinctness, we will derivate a QAP from our R1CS.\n",
    "Our goal is to get $u * v = w$ if $Ls \\odot Rs = Os$.\n",
    "The transformation is made possible thanks to a ring homomorphism between matrices and polynomials.\n",
    "\n",
    "The created polynomials must encode the same informations as our R1CS matrices, but uniquely at the points at which it will be evaluated.\n",
    "As we have 7 constraints, we will evaluate our polynomials at $x=[1,2,3,4,5,6,7]$.\n",
    "\n",
    "### R1CS to QAP\n",
    "For each column of each matrix, we will interpolate a polynomial.\n",
    "The interpolation will be done using Lagrange interpolation.\n",
    "The interpolated polynomial will encode all the values of the column.\n",
    "\n",
    "For example, the third column of $L$ is:\n",
    "$$\\begin{bmatrix} 1 \\\\ 1 \\\\ 0 \\\\ 0 \\\\ 0 \\\\ 0 \\\\ 0 \\end{bmatrix}$$\n",
    "\n",
    "So, the interpolated polynomial $P_{L_3}$ must return the following values:\n",
    "$$P_{L_3}(1) = 1$$\n",
    "$$P_{L_3}(2) = 1$$\n",
    "$$P_{L_3}(3) = 0$$\n",
    "$$P_{L_3}(4) = 0$$\n",
    "$$P_{L_3}(5) = 0$$\n",
    "$$P_{L_3}(6) = 0$$\n",
    "$$P_{L_3}(7) = 0$$\n",
    "\n",
    "The following Python code shows the exact previous example (3rd column of matrix $L$)."
   ]
  },
  {
   "cell_type": "code",
   "execution_count": 95,
   "id": "dd7b3e92-531e-4371-95b2-923cf3b1f2a7",
   "metadata": {},
   "outputs": [
    {
     "name": "stdout",
     "output_type": "stream",
     "text": [
      "The resulting polynomial is:\n",
      "152001686609994966821155595453175521448252530558444682942348640184554225664x^6 + 9211302208565694989362029084462436599764103351841747786306327595183986075239x^5 + 18392204079809390985359827049834238095238556197571806636024185462331061305343x^4 + 10488116376089652710659736086269110979929424608532683123022056172734241570826x^3 + 14288158541339526881188625972598499016135737872493800196580772177348097212391x^2 + 13132945723103565133347843447154365053129018640249620606218922511945485097403x + 21888242871839275222246405745257275088548364400416034343698204186575808495603\n",
      "L3_poly(1) == 1: True\n",
      "L3_poly(2) == 1: True\n",
      "L3_poly(3) == 0: True\n",
      "L3_poly(4) == 0: True\n",
      "L3_poly(5) == 0: True\n",
      "L3_poly(6) == 0: True\n",
      "L3_poly(7) == 0: True\n"
     ]
    }
   ],
   "source": [
    "x = GF(np.array([1,2,3,4,5,6,7]))\n",
    "L3_column = GF(np.array([1,1,0,0,0,0,0]))\n",
    "\n",
    "L3_poly = galois.lagrange_poly(x, L3_column)\n",
    "\n",
    "print(\"The resulting polynomial is:\\n\", L3_poly, sep='')\n",
    "\n",
    "# Checking each column element\n",
    "print(\"L3_poly(1) == 1:\", L3_poly(1) == 1)\n",
    "print(\"L3_poly(2) == 1:\", L3_poly(2) == 1)\n",
    "print(\"L3_poly(3) == 0:\", L3_poly(3) == 0)\n",
    "print(\"L3_poly(4) == 0:\", L3_poly(4) == 0)\n",
    "print(\"L3_poly(5) == 0:\", L3_poly(5) == 0)\n",
    "print(\"L3_poly(6) == 0:\", L3_poly(6) == 0)\n",
    "print(\"L3_poly(7) == 0:\", L3_poly(7) == 0)"
   ]
  },
  {
   "cell_type": "markdown",
   "id": "b3a537f1-5a6d-4afe-a650-502df77d9a86",
   "metadata": {},
   "source": [
    "Now that we achieved it for one column,\n",
    "we can automate the process to get the interpolated polynomials for all the columns of each matrix.\n",
    "\n",
    "The following Python code does it!"
   ]
  },
  {
   "cell_type": "code",
   "execution_count": 96,
   "id": "e6b6302b-83fe-4a45-b63f-2f6c9a73ac06",
   "metadata": {},
   "outputs": [],
   "source": [
    "def interpolate_column(col, nb):\n",
    "    xs = GF(np.arange(1,nb+1))\n",
    "    return galois.lagrange_poly(xs, col)\n",
    "\n",
    "def get_polys_of_matrix(matrix):\n",
    "    polys = []\n",
    "    nb_of_rows = len(matrix)\n",
    "    nb_of_columns = len(matrix[0])\n",
    "    # for each column\n",
    "    for col_id in range(nb_of_columns):\n",
    "        column = []\n",
    "        for row in range(nb_of_rows):\n",
    "            column.append(matrix[row][col_id])\n",
    "        polys.append(interpolate_column(GF(np.array(column)), nb_of_rows))\n",
    "    return np.array(polys)\n",
    "    \n",
    "\n",
    "## computes all interpolated polynomials for L, R, and O\n",
    "U_polys = get_polys_of_matrix(L)\n",
    "V_polys = get_polys_of_matrix(R)\n",
    "W_polys = get_polys_of_matrix(O)\n",
    "\n",
    "def get_polys_of_S_matrix(matrix):\n",
    "    polys = []\n",
    "    nb_of_columns = len(matrix)\n",
    "    # for each column\n",
    "    for col_id in range(nb_of_columns):\n",
    "        polys.append(galois.Poly([matrix[0]], field=GF))\n",
    "    return np.array(polys)\n",
    "    \n",
    "A_polys = get_polys_of_S_matrix(s)\n",
    "\n",
    "# Summing all the polynamials of the collection into one polynomial\n",
    "U = galois.Poly([0], field=GF)\n",
    "V = galois.Poly([0], field=GF)\n",
    "W = galois.Poly([0], field=GF)\n",
    "for i in range(len(U_polys)):\n",
    "    U += U_polys[i]\n",
    "    V += V_polys[i]\n",
    "    W += W_polys[i]"
   ]
  },
  {
   "cell_type": "code",
   "execution_count": 97,
   "id": "8f8f69ed-9191-4e99-a423-68fd3c0e2d3f",
   "metadata": {},
   "outputs": [],
   "source": [
    "Ua = galois.Poly([0], field=GF)\n",
    "for i in range(len(s)):\n",
    "    Ua += U_polys[i] * s[i]\n",
    "\n",
    "Va = galois.Poly([0], field=GF)\n",
    "for i in range(len(s)):\n",
    "    Va += V_polys[i] * s[i]\n",
    "\n",
    "Wa = galois.Poly([0], field=GF)\n",
    "for i in range(len(s)):\n",
    "    Wa += W_polys[i] * s[i]"
   ]
  },
  {
   "cell_type": "markdown",
   "id": "68673331-0650-4887-a6b5-68c49e45ee39",
   "metadata": {},
   "source": [
    "### QAP balancing - $t(x)$ part\n",
    "Our QAP $\\sum\\limits_{i=0}^{m} a_i u_i(x) \\sum\\limits_{i=0}^{m} a_i v_i(x) = \\sum\\limits_{i=0}^{m} a_i w_i(x)$ has an issue.\n",
    "The left term will have a degree greater than the right term.\n",
    "Even if this does not have any impact on the points at which we evaluate those polynomials, we will fix it by adding a *balancing term*.\n",
    "\n",
    "The balancing term is a set of two polynomial $h(x)$ and $t(x)$ that will be added to the right term:\n",
    "$\\sum\\limits_{i=0}^{m} a_i u_i(x) \\sum\\limits_{i=0}^{m} a_i v_i(x) = \\sum\\limits_{i=0}^{m} a_i w_i(x) + h(x)t(x)$.\n",
    "\n",
    "We need this balancing term to be zero at the points we evaluate the polynomials. To do so, we use $t(x)$ as a sort of nullifier.\n",
    "As we evaluate at $x=[1,...,7]$, we can easily find that $t(x)= (x-1)(x-2)...(x-7)$. Remember that as we are in a finite field, negative values are handled differently.\n",
    "\n",
    "Then, we need to compute $h(x)$, this will be explained later."
   ]
  },
  {
   "cell_type": "markdown",
   "id": "a51d5fd6-2037-4287-916b-9190554420ea",
   "metadata": {},
   "source": [
    "To go further into the prover's steps, we need to initialize Groth16's trusted setup."
   ]
  },
  {
   "cell_type": "markdown",
   "id": "9233f665-4668-45ef-bfbd-e7b545f378bf",
   "metadata": {},
   "source": [
    "## Groth16 - without security features\n",
    "Now that we have almost prepared our QAP, we can get to the interesting part: Groth16.\n",
    "To continue the prover steps, we need the trusted setup of Groth16.\n",
    "\n",
    "### Trusted setup\n"
   ]
  },
  {
   "cell_type": "code",
   "execution_count": 98,
   "id": "2bd3fcf6-df2d-42ae-b180-24f16f5d46ff",
   "metadata": {},
   "outputs": [],
   "source": [
    "# tau value is random\n",
    "tau = GF(123456789)\n",
    "\n",
    "# n degree of polynomials (degree 6)\n",
    "n = len(L)-1\n",
    "# public inputs\n",
    "l = 2\n",
    "# private inputs = total inputs - public inputs\n",
    "m = len(L[0])\n",
    "\n",
    "# Computing t(x) - explained later\n",
    "## T = (x-1)\n",
    "T = galois.Poly([1, curve_order-1], field=GF)\n",
    "## Then multiply by the other values: (x-2)(x-3)...(x-7)\n",
    "for i in range(2, len(L)+1):\n",
    "    T = T * galois.Poly([1, curve_order-i], field=GF)\n",
    "\n",
    "# t(tau)\n",
    "Ttau = T(tau)\n",
    "\n",
    "# powers of tau for [A] and [C] (on G1)\n",
    "tau_G1 = []\n",
    "# powers of tau for [B] (on G2)\n",
    "tau_G2 = []\n",
    "for i in range(T.degree):\n",
    "    local_tau = int(tau ** i)\n",
    "    tau_G1.append(multiply(G1, local_tau))\n",
    "    tau_G2.append(multiply(G2, local_tau))\n",
    "\n",
    "# powers of tau for h(tau)t(tau)\n",
    "t_G1 = []\n",
    "for i in range(T.degree-1):\n",
    "    local_tau = int(tau ** i)\n",
    "    tmp = (local_tau * T(tau))\n",
    "    t_G1.append(multiply(G1, int(tmp)))"
   ]
  },
  {
   "cell_type": "markdown",
   "id": "eeb8a487-eefc-4c19-b360-63e6264d3c23",
   "metadata": {},
   "source": [
    "### QAP balancing - $h(x)$ part\n",
    "\n",
    "Then, we need to calculate $h(x)$.\n",
    "This polynomial depends on all the others.\n",
    "It allows to really balance the QAP equation.\n",
    "\n",
    "*Note: $h(x)$ is of degree $n-2$, where $t(x)$ is of degree $n$.*\n",
    "\n",
    "The following code computes it for us."
   ]
  },
  {
   "cell_type": "code",
   "execution_count": 101,
   "id": "668c71ad-5fc7-42b4-a592-2fe82759e6d3",
   "metadata": {},
   "outputs": [
    {
     "name": "stdout",
     "output_type": "stream",
     "text": [
      "t(x): x^7 + 21888242871839275222246405745257275088548364400416034343698204186575808495589x^6 + 322x^5 + 21888242871839275222246405745257275088548364400416034343698204186575808493657x^4 + 6769x^3 + 21888242871839275222246405745257275088548364400416034343698204186575808482485x^2 + 13068x + 21888242871839275222246405745257275088548364400416034343698204186575808490577\n",
      "h(x): 8315758938288474643174054034584144152564815525968244529304323523429987429036x^5 + 14422933370133722418436717267233647978486521782922287815456321304978401959157x^4 + 17050029187043135428329023141982698240850486352740740085643246969501447492822x^3 + 11769237258067560289350709163280291999869113020256107725754484628423059435872x^2 + 4565623993475548820084776902095215412567345176207150126645011989010060425174x + 20702629716281314481041392100722506021251994662060165816747884793136285535344\n",
      "Ua(tau) * Va(tau) - Wa(tau) == H(T(tau)): True\n",
      "deg(T) = 7\n",
      "deg(H) = 5\n"
     ]
    }
   ],
   "source": [
    "H = (Ua * Va - Wa) // T\n",
    "print(\"t(x):\", T)\n",
    "print(\"h(x):\", H)\n",
    "# remainder should be null\n",
    "assert (Ua * Va - Wa)%T == 0, \"Remainder not zero!\"\n",
    "print(\"Ua(tau) * Va(tau) - Wa(tau) == H(T(tau)):\", Ua(tau) * Va(tau) - Wa(tau) == H(tau)*T(tau))\n",
    "print(\"deg(T) =\", T.degree)\n",
    "print(\"deg(H) =\", H.degree)"
   ]
  },
  {
   "cell_type": "markdown",
   "id": "c9391ba1-1db9-406e-be63-10c394662b1a",
   "metadata": {},
   "source": [
    "### Proving steps\n",
    "\n",
    "The prover will hide its values using the generated trusted setup.\n",
    "He will generate three EC points that will be sent to the verifier: $[A]_1, [B]_2, [C]_1$."
   ]
  },
  {
   "cell_type": "code",
   "execution_count": 102,
   "id": "c5136bf7-82c1-4977-b817-3839a4c697c4",
   "metadata": {},
   "outputs": [],
   "source": [
    "def poly_hiding(poly, points, group):\n",
    "    coefs = poly.coefficients()\n",
    "    assert len(coefs) == len(points), \"Length mismatch\"\n",
    "    if group == 1:\n",
    "        result = multiply(G1, 0)\n",
    "    if group == 2:\n",
    "        result = multiply(G2, 0)\n",
    "    # Important note: coefs and points arrays are classed differently\n",
    "    for i in range(len(coefs)):\n",
    "        result = add(result, multiply(points[i], int(coefs[-(i+1)])))\n",
    "    return result\n",
    "\n",
    "# [A]_1 generation\n",
    "A_1 = poly_hiding(Ua, tau_G1, 1)\n",
    "\n",
    "# [B]_2 generation\n",
    "B_2 = poly_hiding(Va, tau_G2, 2)\n",
    "\n",
    "# [C]_1 generation\n",
    "## h(tau)t(tau)\n",
    "HT_tau = poly_hiding(H, t_G1, 1)\n",
    "\n",
    "tmp_C = poly_hiding(Wa, tau_G1, 1)\n",
    "C_1 = add(tmp_C, HT_tau)\n",
    "\n",
    "proof = [A_1, B_2, C_1]"
   ]
  },
  {
   "cell_type": "markdown",
   "id": "d2be0a0d-debc-47f6-bc9b-e720fbfdc923",
   "metadata": {},
   "source": [
    "### Verifier steps"
   ]
  },
  {
   "cell_type": "code",
   "execution_count": 103,
   "id": "10f14789-9d6a-441a-8c47-60715646326b",
   "metadata": {},
   "outputs": [
    {
     "name": "stdout",
     "output_type": "stream",
     "text": [
      "e(A, B) == e(C, G2[1]): True\n",
      "The proof is valid? True\n"
     ]
    }
   ],
   "source": [
    "# e(A, B) == e(C, G2[1])\n",
    "result = pairing(proof[1], proof[0]) == pairing(G2, proof[2])\n",
    "print(\"e(A, B) == e(C, G2[1]):\", result)\n",
    "print(\"The proof is valid?\", result)"
   ]
  },
  {
   "cell_type": "markdown",
   "id": "23cc3e52-98ad-42b9-aa05-529f8974d2d4",
   "metadata": {},
   "source": [
    "## Groth16 - with $\\alpha, \\beta$ security features\n",
    "\n",
    "Our first implementation of Groth16 lacks of $\\alpha$ and $\\beta$.\n",
    "Those two variables are generated during the trusted setup, and EC points corresponding to those are part of the trusted setup results.\n",
    "Once the EC points created, $\\alpha$ and $\\beta$ should be deleted. They are part of the **toxic waste** of Groth16.\n",
    "$\\alpha$ and $\\beta$ EC points are used to avoid an attacker to be able to forge valid proofs for invalid statements.\n",
    "\n",
    "### Trusted Setup\n",
    "Our trusted setup will initialize the following values:\n",
    "- powers of $\\tau$ for $A$:\n",
    "  - $\\{\\tau^i[G_1]_1\\}^{n-1}_{i=0}$\n",
    "- random shift for $A$:\n",
    "  - $[\\alpha G_1]_1$\n",
    "- powers of $\\tau$ for $B$:\n",
    "  - $\\{\\tau^i[G_2]_2\\}^{n-1}_{i=0}$\n",
    "- random shift for $B$:\n",
    "  - $[\\beta G_2]_2$\n",
    "- powers of $\\tau$ for $C$:\n",
    "  - $\\{(\\beta u_i (\\tau^i) + \\alpha v_i (\\tau^i) + w_i(\\tau^i)) [G_1]_1 \\}^{m}_{i=0}$\n",
    "- powers of $\\tau$ for $h(\\tau)t(\\tau)$:\n",
    "  - $\\{\\tau^i t(\\tau) [G_1]_1 \\}^{n-2}_{i=0}$"
   ]
  },
  {
   "cell_type": "code",
   "execution_count": 112,
   "id": "4af55a41-a7e5-44bf-be2f-abb79e9ec64a",
   "metadata": {},
   "outputs": [],
   "source": [
    "# tau value is random\n",
    "tau = GF(123456789)\n",
    "# alpha value is random\n",
    "alpha = GF(888999666)\n",
    "# beta value is random\n",
    "beta = GF(111555777489)\n",
    "\n",
    "# n degree of polynomials (degree 6)\n",
    "n = len(L)-1\n",
    "# public inputs\n",
    "l = 2\n",
    "# private inputs = total inputs - public inputs\n",
    "m = len(L[0])\n",
    "\n",
    "# Computing t(x)\n",
    "## T = (x-1)\n",
    "T = galois.Poly([1, curve_order-1], field=GF)\n",
    "## Then multiply by the other values: (x-2)(x-3)...(x-7)\n",
    "for i in range(2, len(L)+1):\n",
    "    T = T * galois.Poly([1, curve_order-i], field=GF)\n",
    "\n",
    "# t(tau)\n",
    "Ttau = T(tau)\n",
    "\n",
    "# powers of tau for [A] (on G1)\n",
    "tau_G1 = []\n",
    "# powers of tau for [B] (on G2)\n",
    "tau_G2 = []\n",
    "for i in range(T.degree):\n",
    "    local_tau = int(tau ** i)\n",
    "    tau_G1.append(multiply(G1, local_tau))\n",
    "    tau_G2.append(multiply(G2, local_tau))\n",
    "\n",
    "# random shift for [A]\n",
    "alpha_G1 = multiply(G1, int(alpha))\n",
    "#random shift for [B]\n",
    "beta_G2 = multiply(G2, int(beta))\n",
    "\n",
    "# powers of tau for h(tau)t(tau)\n",
    "t_G1 = []\n",
    "for i in range(T.degree-1):\n",
    "    local_tau = int(tau ** i)\n",
    "    tmp = (local_tau * T(tau))\n",
    "    t_G1.append(multiply(G1, int(tmp)))\n",
    "\n",
    "# adapt Polys to alpha and beta\n",
    "U_polys_beta = [U_polys[i] * beta for i in range(len(U_polys))]\n",
    "V_polys_alpha = [V_polys[i] * alpha for i in range(len(V_polys))]\n",
    "\n",
    "assert V_polys_alpha[1] == V_polys[1] * alpha, \"error\"\n",
    "\n",
    "def poly_extract_hidden_coef(poly, point, coef_num):\n",
    "    coefs = poly.coefficients()\n",
    "    assert len(coefs) == len(points), \"Length mismatch between coefs and points\"\n",
    "    result = multiply(point, int(coefs[-(i+1)]))\n",
    "\n",
    "# powers of tau for [C]_1\n",
    "assert len(W_polys) == len(U_polys_beta), \"Length mismatch between W and U_beta\"\n",
    "## Sum together all \"sub-polys\" representing each R1CS-derived polys\n",
    "C_polys = [U_polys_beta[i] + V_polys_alpha[i] + W_polys[i] for i in range(len(W_polys))]\n",
    "C_tau_evals = [C_polys[i](tau) for i in range(len(C_polys))]\n",
    "\n",
    "C_tau_G1 = [multiply(G1, int(C_tau_evals[i])) for i in range(len(C_tau_evals))]"
   ]
  },
  {
   "cell_type": "markdown",
   "id": "953601a1-0a41-4447-86b6-9a3a7e7f27d6",
   "metadata": {},
   "source": [
    "### QAP balancing - $h(x)$ part"
   ]
  },
  {
   "cell_type": "code",
   "execution_count": 113,
   "id": "821af7dc-414b-4fac-b3ac-b612f3daed42",
   "metadata": {},
   "outputs": [
    {
     "name": "stdout",
     "output_type": "stream",
     "text": [
      "h(x): 8315758938288474643174054034584144152564815525968244529304323523429987429036x^5 + 14422933370133722418436717267233647978486521782922287815456321304978401959157x^4 + 17050029187043135428329023141982698240850486352740740085643246969501447492822x^3 + 11769237258067560289350709163280291999869113020256107725754484628423059435872x^2 + 4565623993475548820084776902095215412567345176207150126645011989010060425174x + 20702629716281314481041392100722506021251994662060165816747884793136285535344\n",
      "Ua(tau) * Va(tau) - Wa(tau) == H(T(tau)): True\n",
      "deg(T) = 7\n",
      "deg(H) = 5\n"
     ]
    }
   ],
   "source": [
    "H = (Ua * Va - Wa) // T\n",
    "print(\"h(x):\", H)\n",
    "# remainder should be null\n",
    "assert (Ua * Va - Wa)%T == 0, \"Remainder not zero!\"\n",
    "print(\"Ua(tau) * Va(tau) - Wa(tau) == H(T(tau)):\", Ua(tau) * Va(tau) - Wa(tau) == H(tau)*T(tau))\n",
    "print(\"deg(T) =\", T.degree)\n",
    "print(\"deg(H) =\", H.degree)"
   ]
  },
  {
   "cell_type": "markdown",
   "id": "4b16e3c5-4ec0-4df8-ae70-872013ca3cca",
   "metadata": {},
   "source": [
    "### Proving steps"
   ]
  },
  {
   "cell_type": "code",
   "execution_count": 114,
   "id": "8d30d38b-21b6-4cda-af9a-ef90da3c285f",
   "metadata": {},
   "outputs": [
    {
     "name": "stdout",
     "output_type": "stream",
     "text": [
      "Proof = [(2810973869280143996944754043944300099901689961369777122088380157702686388141, 11976209901664345987849945122763230242964583860594069993401909725986434920954), ((15037922396844586663633914037780016796794140784553104225171629432393758154966, 20261299963341350882217315937947605261651953838920578715049632121387608371289), (1692897509143376720355417257643923016301630509692460586318287210703035742316, 3150698043188242623271902648897205312336583829074322481424629828127492829586)), (18558111906212008875470509189141457061249867140578645331532857237503574141462, 1458712157753854243416006666287707368709177968162491220902261906674502344540)]\n"
     ]
    }
   ],
   "source": [
    "def poly_hiding(poly, points, group):\n",
    "    coefs = poly.coefficients()\n",
    "    assert len(coefs) == len(points), \"Length mismatch\"\n",
    "    if group == 1:\n",
    "        result = multiply(G1, 0)\n",
    "    if group == 2:\n",
    "        result = multiply(G2, 0)\n",
    "    # Important note: coefs and points arrays are classed differently\n",
    "    for i in range(len(coefs)):\n",
    "        result = add(result, multiply(points[i], int(coefs[-(i+1)])))\n",
    "    return result\n",
    "\n",
    "# [A]_1 = alphaG1 + Ua(tau)G1\n",
    "A_1 = poly_hiding(Ua, tau_G1, 1)\n",
    "A_1 = add(alpha_G1, A_1)\n",
    "\n",
    "# [B]_2 = betaG1 + Ua(tau)G1\n",
    "B_2 = poly_hiding(Va, tau_G2, 2)\n",
    "B_2 = add(beta_G2, B_2)\n",
    "\n",
    "# [C]_1 = sum(Witness_i * (C_tau_G1)) + h(tau)t(tau)\n",
    "## h(tau)t(tau)\n",
    "HT_tau = poly_hiding(H, t_G1, 1)\n",
    "\n",
    "# sum(Witness_i * (C_tau_G1))\n",
    "assert len(C_tau_G1) == len(s), 'error'\n",
    "w_C_tau_G1 = [multiply(C_tau_G1[i], int(s[i])) for i in range(len(s))]\n",
    "tmp_C = w_C_tau_G1[0]\n",
    "for i in range(1, len(w_C_tau_G1)):\n",
    "    tmp_C = add(tmp_C, w_C_tau_G1[i])\n",
    "\n",
    "# [C]_1\n",
    "C_1 = add(HT_tau, tmp_C)\n",
    "\n",
    "proof = [A_1, B_2, C_1]\n",
    "print(\"Proof =\", [normalize(proof[i]) for i in range(len(proof))])"
   ]
  },
  {
   "cell_type": "markdown",
   "id": "0e69972c-d531-4a3d-a77c-82d4262e7a02",
   "metadata": {},
   "source": [
    "### Verifier steps\n",
    "\n",
    "It seems like this part can't be easily verified in Python.\n",
    "The `py_ecc` library doesn't support $G_{12}$ points addition.\n",
    "\n",
    "To verify our proof, we will write some Solidity!\n",
    "We can easily play with Solidity in the [Remix IDE](https://remix.ethereum.org/).\n",
    "Special thanks to [tarassh](https://github.com/tarassh) for his verifier template that I copied from his [zkSNARK-under-the-hood repository](https://github.com/tarassh/zkSNARK-under-the-hood/tree/main).\n",
    "\n",
    "If you are not familiar with Solidity, here is the process:\n",
    "- Execute the next block of code, it will create a `Verifier.sol` file\n",
    "- Go to https://remix.ethereum.org/\n",
    "- Copy/paste the `Verifier.sol` file in the Remix IDE\n",
    "- Go to the `Solidity Compiler` options and click `Compile Verifier.sol`\n",
    "- Go to the `Deploy & run transactions`, by default the environment should be `Remix VM`\n",
    "- Click on `Deploy`, then our Ethereum smart contract has been deployed in our local VM!\n",
    "- In `Deployed Contracts`, you should see our `PairingTest` contract and its functions.\n",
    "- Call `verify` by clicking it. It should return a value.\n",
    "- If the returned value is `true`, then our proof is valid!"
   ]
  },
  {
   "cell_type": "code",
   "execution_count": 115,
   "id": "dc1defd0-6b9b-4b9b-a629-0206a71b6a93",
   "metadata": {},
   "outputs": [],
   "source": [
    "from string import Template\n",
    "\n",
    "with open(\"Verifier.sol.template\", \"r\") as f:\n",
    "    template = Template(f.read())\n",
    "    variables = {\n",
    "        \"aG1_x\": normalize(neg(A_1))[0],\n",
    "        \"aG1_y\": normalize(neg(A_1))[1],\n",
    "        \"bG2_x1\": normalize(B_2)[0].coeffs[0],\n",
    "        \"bG2_x2\": normalize(B_2)[0].coeffs[1],\n",
    "        \"bG2_y1\": normalize(B_2)[1].coeffs[0],\n",
    "        \"bG2_y2\": normalize(B_2)[1].coeffs[1],\n",
    "        \"cG1_x\": normalize(C_1)[0],\n",
    "        \"cG1_y\": normalize(C_1)[1],\n",
    "        \"alphaG1_x\": normalize(alpha_G1)[0],\n",
    "        \"alphaG1_y\": normalize(alpha_G1)[1],\n",
    "        \"betaG2_x1\": normalize(beta_G2)[0].coeffs[0],\n",
    "        \"betaG2_x2\": normalize(beta_G2)[0].coeffs[1],\n",
    "        \"betaG2_y1\": normalize(beta_G2)[1].coeffs[0],\n",
    "        \"betaG2_y2\": normalize(beta_G2)[1].coeffs[1],\n",
    "    }\n",
    "    output = template.substitute(variables)\n",
    "\n",
    "with open(\"Verifier.sol\", \"w\") as f:\n",
    "    f.write(output)"
   ]
  },
  {
   "cell_type": "markdown",
   "id": "b99ce975-d7c4-4617-b7c6-87050b61a226",
   "metadata": {},
   "source": [
    "## WORK IN PROGRESS\n",
    "The following sections are unstable. This is a work in progress."
   ]
  },
  {
   "cell_type": "markdown",
   "id": "45c1c8ba-e20d-4115-b3ce-410bcffaeca9",
   "metadata": {},
   "source": [
    "## Groth16 - with $\\alpha, \\beta, \\gamma, \\delta$ security features\n",
    "\n",
    "### Trusted Setup\n",
    "One of the most important part of the Groth16 algorithm is its trusted setup.\n",
    "The values created during the process are highly sensitive.\n",
    "If they are known by the prover, he will be able to forge correct proof without actually knowing the witness.\n",
    "\n",
    "In our setup, we want two public inputs: $1$ and $out$.\n",
    "The others variables of our circuits are private ones.\n",
    "\n",
    "Our trusted setup will initialize the following values:\n",
    "- powers of $\\tau$ for $A$:\n",
    "  - $\\{\\tau^i[G_1]_1\\}^{n-1}_{i=0}$\n",
    "- random shift for $A$:\n",
    "  - $[\\alpha G_1]_1$\n",
    "- powers of $\\tau$ for $B$:\n",
    "  - $\\{\\tau^i[G_2]_2\\}^{n-1}_{i=0}$\n",
    "- random shift for $B$:\n",
    "  - $[\\beta G_2]_2$\n",
    "- powers of $\\tau$ for $public\\ inputs$:\n",
    "  - $\\{\\gamma^{-1} (\\beta u_i (\\tau^i) + \\alpha v_i (\\tau^i) + w_i(\\tau^i)) [G_1]_1 \\}^{l}_{i=0}$\n",
    "- powers of $\\tau$ for $private\\ inputs$:\n",
    "  - $\\{\\delta^{-1} (\\beta u_i (\\tau^i) + \\alpha v_i (\\tau^i) + w_i(\\tau^i)) [G_1]_1 \\}^{n-1}_{i=l+1}$\n",
    "- powers of $\\tau$ for $h(\\tau)t(\\tau)$:\n",
    "  - $\\{\\delta^{-1} \\tau^i t(\\tau) [G_1]_1 \\}^{n-2}_{i=0}$\n",
    "- $\\gamma$ and $\\delta$:\n",
    "  - $[\\gamma G_2]_2, [\\delta G_2]_2, [\\delta G_2]_2$\n",
    "- $[\\beta G_1]_1$:\n",
    "  - $[\\beta G_1]_1$\n",
    "\n",
    "*Note: $A$ and $B$ refer to the form $A * B = C$.*\n",
    "\n",
    "The following code generates the trusted setup."
   ]
  },
  {
   "cell_type": "code",
   "execution_count": 116,
   "id": "68cd633e-0bf2-4e4e-919a-f9430947e065",
   "metadata": {},
   "outputs": [],
   "source": [
    "# tau value is random\n",
    "tau = GF(123456789)\n",
    "# alpha value is random\n",
    "alpha = GF(888999666)\n",
    "# beta value is random\n",
    "beta = GF(111555777489)\n",
    "# gamma value is random\n",
    "gamma = GF(63708563)\n",
    "inv_gamma = GF(curve_order-int(gamma))\n",
    "# delta value is random\n",
    "delta = GF(547345168978415)\n",
    "inv_delta = GF(curve_order-int(delta))\n",
    "\n",
    "# n degree of polynomials (degree 6)\n",
    "n = len(L)-1\n",
    "# public inputs\n",
    "l = 2\n",
    "# private inputs = total inputs - public inputs\n",
    "m = len(L[0])\n",
    "\n",
    "# Computing t(x) - explained later\n",
    "## T = (x-1)\n",
    "T = galois.Poly([1, curve_order-1], field=GF)\n",
    "## Then multiply by the other values: (x-2)(x-3)...(x-7)\n",
    "for i in range(2, len(L)+1):\n",
    "    T = T * galois.Poly([1, curve_order-i], field=GF)\n",
    "\n",
    "# t(tau)\n",
    "Ttau = T(tau)\n",
    "\n",
    "# powers of tau for [A] (on G1)\n",
    "tau_G1 = []\n",
    "# powers of tau for [B] (on G2)\n",
    "tau_G2 = []\n",
    "for i in range(n+1):\n",
    "    local_tau = int(tau ** i)\n",
    "    tau_G1.append(multiply(G1, local_tau))\n",
    "    tau_G2.append(multiply(G2, local_tau))\n",
    "\n",
    "# random shift for [A]\n",
    "alpha_G1 = multiply(G1, int(alpha))\n",
    "#random shift for [B]\n",
    "beta_G2 = multiply(G2, int(beta))\n",
    "\n",
    "# powers of tau for public inputs\n",
    "\"\"\"public_G1 = []\n",
    "for i in range(l):\n",
    "    local_tau = int(tau ** i)\n",
    "    #tmp = inv_gamma * (beta * U_polys[i](local_tau) + alpha * V_polys[i](local_tau) + W_polys[i](local_tau))\n",
    "    tmp = inv_gamma * (beta * U_polys[i](local_tau) + alpha * V_polys[i](local_tau) + W_polys[i](local_tau))\n",
    "    public_G1.append(multiply(G1, int(tmp)))\n",
    "\n",
    "# powers of tau for private inputs\n",
    "private_G1 = []\n",
    "for i in range(l, m):\n",
    "    local_tau = int(tau ** i)\n",
    "    tmp = inv_delta * (beta * U_polys[i](local_tau) + alpha * V_polys[i](local_tau) + W_polys[i](local_tau))\n",
    "    private_G1.append(multiply(G1, int(tmp)))\"\"\"\n",
    "\n",
    "\"\"\"# powers of tau for h(tau)t(tau)\n",
    "t_G1 = []\n",
    "for i in range(n):\n",
    "    local_tau = int(tau ** i)\n",
    "    tmp = inv_delta * (local_tau * T(tau))\n",
    "    t_G1.append(multiply(G1, int(tmp)))\"\"\"\n",
    "\n",
    "# powers of tau for C\n",
    "C_tau = []\n",
    "for i in range(n+1):\n",
    "    local_tau = int(tau ** i)\n",
    "    num = beta * U_polys[i](local_tau) + alpha * V_polys[i](local_tau) + W_polys[i](local_tau)\n",
    "    C_tau.append(multiply(G1, int(num)))\n",
    "\n",
    "# Gamma and Delta EC points on G2\n",
    "gamma_G2 = multiply(G2, int(gamma))\n",
    "delta_G2 = multiply(G2, int(delta))\n",
    "# delta_G1 and beta_G1\n",
    "delta_G1 = multiply(G1, int(delta))\n",
    "beta_G1 = multiply(G1, int(beta))"
   ]
  },
  {
   "cell_type": "code",
   "execution_count": 117,
   "id": "c4ab43ba-0370-40dc-b6fb-cc88a2e2e83b",
   "metadata": {},
   "outputs": [
    {
     "name": "stdout",
     "output_type": "stream",
     "text": [
      "Values used for A term:\n",
      " [(1, 2, 1), (13366504834819994555561749398081874764908344737061834252278313414019801033608, 16947276083800881299031647714061424260898609166089985239266170109846819136448, 12926141971454832523259283599702521642687965302067183077420568092804265422735), (15756117386181370422574847832709205758062857656120922276610965460774113337452, 17757193768945292794128966175941545954580257189340971155254062828250665625909, 13054044371852716963727819811126228012902959584629508138216289942390556138782), (7725959749927544991971464120150819860029377818530195458183698388924924017083, 20208398106466150544552734139834582202946647544611844670630743360498883059910, 15507587539779748241411344318132680852544483386177420476487442431398903788882), (18709265587525099357312473177050857464874577264801073390150638803036626881876, 13715886326540935798637498997258863185387097951411942480378176139605688545321, 20300757063745023067117029172553476801705065763463833133481812017963148644104), (3037906579355367365581463109271594127761173793458272531419962754576324400254, 20516198772143061520995373192886779467746013659828392442986774274832601071232, 1673756575082271061936501189768705038802119333423565941809673703361459506470), (21373474571698413131434371836179862267210538216510506048710932533545045237339, 5686130677746896151566596344151497514929810372461975562613409355180398513131, 17922088776780274366638292719330184850675144648846242932254501705850535804307)]\n",
      "------------------------------------------------------------\n",
      "Values used for B term:\n",
      " [((10857046999023057135944570762232829481370756359578518086990519993285655852781, 11559732032986387107991004021392285783925812861821192530917403151452391805634), (8495653923123431417604973247489272438418190587263600148770280649306958101930, 4082367875863433681332203403145435568316851327593401208105741076214120093531), (1, 0)), ((540838321449706415128417988728379173097395461685038640949647748049388414482, 18140226369645404822383812000822256703044731869504898965520656589470871541693), (5223596022461460631170034568636233471859754543684567038743662129659104575216, 2471086055454473288721700357318826017923289741486464872439821672513023761135), (5401701817020826508762486920038849391151452237347673097854862400130144637372, 956850429891758600434673405489261159631996904111839816024067478248578461908)), ((809099597576751005138244030712183287581050291176349824210090631581265397888, 4720637240994434543280549823727303709940149476223796993986099847451399240457), (16358623762653651498710530761778854702475683390649350486853293412497804530847, 1027603729208638521358260896975157246801262635554490905282317574736201220780), (14527209453742444275100576625965220150292626982118094855676089916125687124471, 9897772791217190047182030068813369342021258002807198072922134445772697587130)), ((7702408986345498801262697467369114014904753523276839733954974602681462233246, 8500534246806253951799213756766210678929204259232506914399827662143138054368), (7585653251832143219329983838637174790222153744873796602083146454305915335419, 14316718744317709446567262394383682260934264266961372962728978431038891619943), (198376926781450920701978950436989396300731338489832703941750799823920759323, 21362312496495144268691580657541740543124912096071180524898961966670275688801)), ((5674699366540817270534086755999256215429423432724853879468446214367369019491, 17446195670056702184183524914846131616141415358688036792690137134196447992693), (7192916211481355209980450607311930730746311312819000050677585623463704440891, 3258559724777870812008120491706432220192443710810092224854887842228443618868), (15774526907693381052657837819309289060961854042496507318116538787111232748764, 4645076039206593585919487152670119047872613564835515276808287750134895148508)), ((5620210641222512494103051957987529160770875096915959658062154776976301249525, 19692577322791587513467053196133033100492226292823080285435175767965021403723), (18469904536534891058214654637371410903708336169058497237269234072155350364598, 282934074632352711571119729952049610977651359043149152250612781589558287478), (14239883308373928626451050948208693672430013576366313127491097724021477044890, 16261692793770841822267125449941479717383234186665919347062247560621802604754)), ((21587177826059145599121604305066596670964472493346089979530758925780735194536, 4284083876105759110911655965314596923230885952324980907761761853839208222567), (13229878480958796725796129178173448710632414188079187216980410553990728692467, 19597088550055325586587387363709336738482820619825713722220404661838654970221), (21804650176880651809779425291937197459098460568588504055409774285694662278334, 5937578031821289657514160328083736171414452123806170764673155937942343289852))]\n",
      "------------------------------------------------------------\n",
      "Random shift for A term:\n",
      " (11523581595749889532807273637033555460001516593591402612122321294277088245264, 19167278433905148664881884856892682687559812493732071426785149218382403363745, 16865047450487603905947727124559382992022172960301597288763987096419866376661)\n",
      "------------------------------------------------------------\n",
      "Random shift for B term:\n",
      " ((10411388592720855971153849342171861941532566315272494981221147890990700165495, 15359033938536601066878304910466072393227988830394234678036641756104396752044), (9497333175883748512368967664661702561678987444717119902038311374207591841500, 13936193113200464890880644914740636195455631293346070903878785355850889982331), (2925692796051855227951922464739495676217030037024340353597865170968985872000, 4476023277738334586937989836350089396014281915422542348820988288427494005146))\n",
      "------------------------------------------------------------\n"
     ]
    },
    {
     "ename": "NameError",
     "evalue": "name 'public_G1' is not defined",
     "output_type": "error",
     "traceback": [
      "\u001b[0;31m---------------------------------------------------------------------------\u001b[0m",
      "\u001b[0;31mNameError\u001b[0m                                 Traceback (most recent call last)",
      "Cell \u001b[0;32mIn[117], line 10\u001b[0m\n\u001b[1;32m      8\u001b[0m \u001b[38;5;28mprint\u001b[39m(\u001b[38;5;124m\"\u001b[39m\u001b[38;5;124mRandom shift for B term:\u001b[39m\u001b[38;5;130;01m\\n\u001b[39;00m\u001b[38;5;124m\"\u001b[39m, beta_G2)\n\u001b[1;32m      9\u001b[0m \u001b[38;5;28mprint\u001b[39m(\u001b[38;5;124m'\u001b[39m\u001b[38;5;124m---\u001b[39m\u001b[38;5;124m'\u001b[39m\u001b[38;5;241m*\u001b[39m\u001b[38;5;241m20\u001b[39m)\n\u001b[0;32m---> 10\u001b[0m \u001b[38;5;28mprint\u001b[39m(\u001b[38;5;124m\"\u001b[39m\u001b[38;5;124mValues used for public inputs:\u001b[39m\u001b[38;5;130;01m\\n\u001b[39;00m\u001b[38;5;124m\"\u001b[39m, \u001b[43mpublic_G1\u001b[49m)\n\u001b[1;32m     11\u001b[0m \u001b[38;5;28mprint\u001b[39m(\u001b[38;5;124m'\u001b[39m\u001b[38;5;124m---\u001b[39m\u001b[38;5;124m'\u001b[39m\u001b[38;5;241m*\u001b[39m\u001b[38;5;241m20\u001b[39m)\n\u001b[1;32m     12\u001b[0m \u001b[38;5;28mprint\u001b[39m(\u001b[38;5;124m\"\u001b[39m\u001b[38;5;124mValues used for private inputs:\u001b[39m\u001b[38;5;130;01m\\n\u001b[39;00m\u001b[38;5;124m\"\u001b[39m, private_G1)\n",
      "\u001b[0;31mNameError\u001b[0m: name 'public_G1' is not defined"
     ]
    }
   ],
   "source": [
    "# Printing the trusted setup resulting output (all the public values)\n",
    "print(\"Values used for A term:\\n\", tau_G1)\n",
    "print('---'*20)\n",
    "print(\"Values used for B term:\\n\", tau_G2)\n",
    "print('---'*20)\n",
    "print(\"Random shift for A term:\\n\", alpha_G1)\n",
    "print('---'*20)\n",
    "print(\"Random shift for B term:\\n\", beta_G2)\n",
    "print('---'*20)\n",
    "print(\"Values used for public inputs:\\n\", public_G1)\n",
    "print('---'*20)\n",
    "print(\"Values used for private inputs:\\n\", private_G1)\n",
    "print('---'*20)\n",
    "print(\"Values used for h(x)t(x):\\n\", private_G1)\n",
    "print('---'*20)\n",
    "print(\"Values used for gamma G2 point:\\n\", gamma_G2)\n",
    "print('---'*20)\n",
    "print(\"Values used for delta G2 point:\\n\", delta_G2)\n",
    "print('---'*20)"
   ]
  },
  {
   "cell_type": "markdown",
   "id": "e377865d-2e52-420a-963a-55a3a0bddd3d",
   "metadata": {},
   "source": [
    "### Adding the witness to the trusted setup polynomials\n",
    "\n",
    "Once the first QAP has been used to generate the variables during the trusted setup, we can use those variables.\n",
    "This witness plug could have been done before to verify our QAP polynomials.\n",
    "\n",
    "Here are the formulas that the prover needs to compute:\n",
    "\n",
    "$$[A]_1 = [\\alpha]_1 + \\sum\\limits_{i=0}^{m} a_i [u_i(\\tau)]_1 + r[\\delta]_1$$\n",
    "\n",
    "$$[B]_2 = [\\beta]_2 + \\sum\\limits_{i=0}^{m} a_i [v_i(\\tau)]_2 + s[\\delta]_2$$\n",
    "\n",
    "$$[B]_1 = [\\beta]_1 + \\sum\\limits_{i=0}^{m} a_i [v_i(\\tau)]_1 + s[\\delta]_1$$\n",
    "\n",
    "$$[C]_1 = \\sum\\limits_{i=0}^{m} a_i [\\beta u_i(\\tau) + \\alpha v_i (\\tau) + w_i(\\tau)]_1 + [h(\\tau)t(\\tau)]_1 + s[A]_1 + r[B]_1 - rs[\\delta]_1$$\n"
   ]
  },
  {
   "cell_type": "code",
   "execution_count": 118,
   "id": "ad4111cc-15ba-46fe-bfa1-84d8f1e02e93",
   "metadata": {},
   "outputs": [
    {
     "ename": "NameError",
     "evalue": "name 'private_G1' is not defined",
     "output_type": "error",
     "traceback": [
      "\u001b[0;31m---------------------------------------------------------------------------\u001b[0m",
      "\u001b[0;31mNameError\u001b[0m                                 Traceback (most recent call last)",
      "Cell \u001b[0;32mIn[118], line 35\u001b[0m\n\u001b[1;32m     33\u001b[0m \u001b[38;5;66;03m## h(tau)t(tau)\u001b[39;00m\n\u001b[1;32m     34\u001b[0m HT_tau \u001b[38;5;241m=\u001b[39m poly_hiding(H, t_G1, \u001b[38;5;241m1\u001b[39m)\n\u001b[0;32m---> 35\u001b[0m \u001b[38;5;28;01massert\u001b[39;00m \u001b[38;5;28mlen\u001b[39m(s) \u001b[38;5;241m==\u001b[39m \u001b[38;5;28mlen\u001b[39m(\u001b[43mprivate_G1\u001b[49m) \u001b[38;5;241m+\u001b[39m \u001b[38;5;28mlen\u001b[39m(public_G1), \u001b[38;5;124m\"\u001b[39m\u001b[38;5;124merror\u001b[39m\u001b[38;5;124m\"\u001b[39m\n\u001b[1;32m     36\u001b[0m \u001b[38;5;66;03m#constant_part = add(add(multiply(A_1, int(S)), multiply(B_1, int(R))), multiply(delta_G1, int(R*S)))\u001b[39;00m\n\u001b[1;32m     37\u001b[0m \u001b[38;5;66;03m## hiding priv points\u001b[39;00m\n\u001b[1;32m     38\u001b[0m \u001b[38;5;66;03m#tmp_Cpriv = multiply(G1, 0)\u001b[39;00m\n\u001b[1;32m     39\u001b[0m tmp_Cpriv \u001b[38;5;241m=\u001b[39m poly_hiding(Wa, C_tau,\u001b[38;5;241m1\u001b[39m)\n",
      "\u001b[0;31mNameError\u001b[0m: name 'private_G1' is not defined"
     ]
    }
   ],
   "source": [
    "# prover generates r and s, randoms to protect its inputs\n",
    "R = GF(97842355664152)\n",
    "S = GF(123445612456000445)\n",
    "\n",
    "def poly_hiding(poly, points, group):\n",
    "    coefs = poly.coefficients()\n",
    "    assert len(coefs) == len(points), \"Length mismatch\"\n",
    "    if group == 1:\n",
    "        result = multiply(G1, 0)\n",
    "    if group == 2:\n",
    "        result = multiply(G2, 0)\n",
    "    # Important note: coefs and points arrays are classed differently\n",
    "    for i in range(len(coefs)):\n",
    "        result = add(result, multiply(points[i], int(coefs[-(i+1)])))\n",
    "    return result\n",
    "\n",
    "# [A]_1 generation\n",
    "tmp_A = poly_hiding(Ua, tau_G1, 1)\n",
    "#A_1 = add(add(alpha_G1, tmp_A), multiply(delta_G1, int(R)))\n",
    "A_1 = add(alpha_G1, tmp_A)\n",
    "\n",
    "\n",
    "# [B]_1 generation\n",
    "tmp_B = poly_hiding(Va, tau_G1, 1)\n",
    "#B_1 = add(add(beta_G1, tmp_B), multiply(delta_G1, int(S)))\n",
    "B_1 = add(beta_G1, tmp_B)\n",
    "\n",
    "# [B]_2 generation\n",
    "tmp_B = poly_hiding(Va, tau_G2, 2)\n",
    "#B_2 = add(add(beta_G2, tmp_B), multiply(delta_G2, int(S)))\n",
    "B_2 = add(beta_G2, tmp_B)\n",
    "\n",
    "## h(tau)t(tau)\n",
    "HT_tau = poly_hiding(H, t_G1, 1)\n",
    "assert len(s) == len(private_G1) + len(public_G1), \"error\"\n",
    "#constant_part = add(add(multiply(A_1, int(S)), multiply(B_1, int(R))), multiply(delta_G1, int(R*S)))\n",
    "## hiding priv points\n",
    "#tmp_Cpriv = multiply(G1, 0)\n",
    "tmp_Cpriv = poly_hiding(Wa, C_tau,1)\n",
    "#for i in range(2, len(s)):\n",
    "#    tmp_Cpriv = add(tmp_Cpriv, multiply(private_G1[i-2], int(s[i])))\n",
    "#for i in range(0, len(s)):\n",
    "#    tmp_Cpriv = add(tmp_Cpriv, multiply(C_tau[i], int(s[i])))\n",
    "\n",
    "# C_1 = alpha beta + delta^{-1} (sum(private inputs) + ht(x) + As +rB - rs delta\n",
    "#C_1 = add(multiply(add(tmp_Cpriv, HT_tau), int(inv_delta)), constant_part)\n",
    "C_1 = add(tmp_Cpriv, HT_tau)"
   ]
  },
  {
   "cell_type": "markdown",
   "id": "8196ec2e-2842-4cce-a325-0bd54a1ef018",
   "metadata": {},
   "source": [
    "### Verifier steps\n",
    "\n"
   ]
  },
  {
   "cell_type": "code",
   "execution_count": 119,
   "id": "2da3f9dd-d125-44c7-9b89-38c19fd796a5",
   "metadata": {},
   "outputs": [
    {
     "name": "stdout",
     "output_type": "stream",
     "text": [
      "first pairing == second pairing: False\n",
      "First: (18377907623668450843654912321069690094090538852066844020215028741294240930523, 2828330194053404564304132103863330656793874150498167969118022249961580433322, 19060138690400924056024972893111772865646717200452919128748882716073696665403, 18912801682686173381237460078662970011232263451590580801925722925794692854249, 14329876888586011092991535549886497185100582957389355009028680110570492778979, 1249189233408449680280534373290739705267445899613152652127071469204072793512, 10626387520539973994076591926397471590357775749957069371939122248905288625032, 1068463616488495042982947217821461402403890900974559958243484572212797272216, 4890225831205447969309039934620872348067786049273946479263984622108335616942, 709590566521744663764851090952752483233039530341850540448940310955412244991, 2290249598836880004837212384478531886051573524851155034145083686344717325279, 9133768573357091563206043768998164169913159824861331194131569435714362215069)\n",
      "Second: (14311335981423407705943832379925431696631421948217559922060786810953198793916, 1785342652085634725273105827558772545141893958672346444972783771793394243729, 18553418617541083104390317935318777073406838532083600594106565589377266988964, 4411840519027007767502567308440349854097904108957777120725514698230480339837, 14391020209993336586586701342387064295994913657496557838159143354371104051243, 21103400868780296649724470244785399038116417765859001811532438913816718716473, 11318006394019735336463393571122565670938570740004360400782463124102296486237, 11520099014904326011352081791317532027553969301841149647093801472799560065126, 19896406108217863318365121433743180980584530976568878508024749532510939271255, 9124084748480147974745718775647542925144135688415968177446137622513180083522, 4065203559251904511836310611634671958583130711299784391770484783517234481584, 10125758525025233198918758774840350309073729215935872996333058773347597025502)\n"
     ]
    }
   ],
   "source": [
    "first = pairing(B_2, A_1)\n",
    "second = pairing(beta_G2, alpha_G1) + pairing(G2, C_1)\n",
    "print(\"first pairing == second pairing:\", first == second)\n",
    "print(\"First:\", first)\n",
    "print(\"Second:\", second)"
   ]
  },
  {
   "cell_type": "code",
   "execution_count": 120,
   "id": "8f695bc3-c1a1-449c-85f8-2435f035daad",
   "metadata": {},
   "outputs": [
    {
     "ename": "NameError",
     "evalue": "name 'public_G1' is not defined",
     "output_type": "error",
     "traceback": [
      "\u001b[0;31m---------------------------------------------------------------------------\u001b[0m",
      "\u001b[0;31mNameError\u001b[0m                                 Traceback (most recent call last)",
      "Cell \u001b[0;32mIn[120], line 4\u001b[0m\n\u001b[1;32m      2\u001b[0m tmp_Cpub \u001b[38;5;241m=\u001b[39m multiply(G1, \u001b[38;5;241m0\u001b[39m)\n\u001b[1;32m      3\u001b[0m \u001b[38;5;28;01mfor\u001b[39;00m i \u001b[38;5;129;01min\u001b[39;00m \u001b[38;5;28mrange\u001b[39m(\u001b[38;5;241m0\u001b[39m, \u001b[38;5;241m2\u001b[39m):\n\u001b[0;32m----> 4\u001b[0m     tmp_Cpub \u001b[38;5;241m=\u001b[39m add(tmp_Cpub, multiply(\u001b[43mpublic_G1\u001b[49m[i], \u001b[38;5;28mint\u001b[39m(s[i])))\n\u001b[1;32m      6\u001b[0m first \u001b[38;5;241m=\u001b[39m pairing(B_2, A_1)\n\u001b[1;32m      7\u001b[0m second \u001b[38;5;241m=\u001b[39m pairing(beta_G2, alpha_G1) \u001b[38;5;241m+\u001b[39m pairing(delta_G2, C_1) \u001b[38;5;241m+\u001b[39m pairing(gamma_G2, tmp_Cpub)\n",
      "\u001b[0;31mNameError\u001b[0m: name 'public_G1' is not defined"
     ]
    }
   ],
   "source": [
    "# calculate public inputs\n",
    "tmp_Cpub = multiply(G1, 0)\n",
    "for i in range(0, 2):\n",
    "    tmp_Cpub = add(tmp_Cpub, multiply(public_G1[i], int(s[i])))\n",
    "\n",
    "first = pairing(B_2, A_1)\n",
    "second = pairing(beta_G2, alpha_G1) + pairing(delta_G2, C_1) + pairing(gamma_G2, tmp_Cpub)\n",
    "print(\"first pairing == second pairing:\", first == second)\n",
    "print(\"First:\", first)\n",
    "print(\"Second:\", second)"
   ]
  }
 ],
 "metadata": {
  "kernelspec": {
   "display_name": "Python 3 (ipykernel)",
   "language": "python",
   "name": "python3"
  },
  "language_info": {
   "codemirror_mode": {
    "name": "ipython",
    "version": 3
   },
   "file_extension": ".py",
   "mimetype": "text/x-python",
   "name": "python",
   "nbconvert_exporter": "python",
   "pygments_lexer": "ipython3",
   "version": "3.11.2"
  }
 },
 "nbformat": 4,
 "nbformat_minor": 5
}
